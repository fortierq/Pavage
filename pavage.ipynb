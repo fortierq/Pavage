{
 "cells": [
  {
   "cell_type": "markdown",
   "metadata": {},
   "source": [
    "# Autour des pavages\n",
    "\n",
    "On souhaite paver (sans chevauchement) une grille rectangulaire en la remplissant au maximum à l'aide de tuiles (chacune disponible en quantité infinie).\n",
    "\n",
    "Voici un exemple de pavage optimal (pourquoi est-il optimal?) d'un carré 5x5 à l'aide de tuiles en L (dans n'importe quel sens):\n",
    "![Exemple](img/ex.png)\n",
    "Dans cet exemple, seule la case en haut à gauche n'est pas couverte."
   ]
  },
  {
   "cell_type": "markdown",
   "metadata": {},
   "source": [
    "# Modélisation par PLNE\n",
    "Considérons l'ensemble $\\mathcal{P}$ des positions possibles d'une tuile sur la grille (exercice: que vaut $\\vert \\mathcal{P} \\vert$ sur l'exemple ci-dessus?). <br>\n",
    "Définissons une variable $x_k$ par élément $p_k$ de $\\mathcal{P}$, valant 1 si la tuile correspondante est posée, 0 sinon. <br>\n",
    "Définissons $w_k$ comme le nombre de cases occupées par la tuile $p_k$. <br>\n",
    "On souhaite alors maximiser le nombre de cases couvertes, c'est à dire maximiser:\n",
    "$$\\sum_k x_k \\times w_k$$ \n",
    "La contrainte de non-chevauchement s'exprime en disant que chaque case de coordonnée $(i, j)$ est recouverte par au plus une tuile, c'est à dire: \n",
    "$$\\displaystyle\\sum_{p_k \\in \\mathcal{P},\\\\(i, j) \\in p_k} x_k \\leq 1$$\n",
    "\n",
    "Il s'agit d'un **programme linéaire en nombres entiers** (**PLNE**)."
   ]
  },
  {
   "cell_type": "markdown",
   "metadata": {},
   "source": [
    "# Résolution avec MIP\n",
    "\n",
    "Malheureusement, la résolution d'un PLNE est plus difficile que celle d'un programme linéaire où les variables sont réelles. <br>\n",
    "En effet, dans ce deuxième cas, la méthode de l'ellipsoïde/du simplexe donne un algorithme efficace en théorie/en pratique. \n",
    "\n",
    "Heureusement, il existe quand même des méthodes pour résoudre un PLNE comme celle de **Branch & Bound** (et ses variations comme **Branch & Cut**). Le package MIP en Python permet d'utiliser un solveur de PLNE s'appuyant sur ce genre de méthodes. <br>\n",
    "Par défaut, MIP utilise le solveur COIN-OR."
   ]
  },
  {
   "cell_type": "code",
   "execution_count": 1,
   "metadata": {},
   "outputs": [],
   "source": [
    "from mip import *\n",
    "import numpy as np\n",
    "import matplotlib.pyplot as plt\n",
    "plt.rcParams[\"figure.figsize\"] = (10,4)"
   ]
  },
  {
   "cell_type": "markdown",
   "metadata": {},
   "source": [
    "Définissons un PLNE avec MIP. <br>\n",
    "Pour cela, on commence par définir un modèle `m`. <br>\n",
    "Les variables (binaires: 0 ou 1) sont ajoutées avec `m.add_var`. <br>\n",
    "On ajoute une contrainte en écrivant `m += ... <= ...`. <br>\n",
    "`constraints[i][j]` contient la liste des variables (i.e tuiles) couvrant la case $(i, j)$."
   ]
  },
  {
   "cell_type": "code",
   "execution_count": 2,
   "metadata": {},
   "outputs": [],
   "source": [
    "def pl(tiles, n, p): # renvoie un modèle de PL pour paver une grille nxp avec des tuiles de tiles\n",
    "    m, x, w = Model(), [], []\n",
    "    constraints = [[[] for j in range(p)] for i in range(n)]\n",
    "    for t in range(len(tiles)):\n",
    "        a, b = tiles[t].shape\n",
    "        for i in range(n - a + 1):\n",
    "            for j in range(p - b + 1):\n",
    "                x.append(m.add_var(var_type=BINARY, name=str(t)+\",\"+str(i)+\",\"+str(j)))\n",
    "                w.append(tiles[t].sum())\n",
    "                for k, l in np.argwhere(tiles[t]):\n",
    "                    constraints[i + k][j + l].append(x[-1])\n",
    "    for i in range(len(constraints)):\n",
    "        for j in range(len(constraints[i])):\n",
    "            m += xsum(constraints[i][j]) <= 1\n",
    "    m.objective = maximize(xsum(x[i]*w[i] for i in range(len(x))))\n",
    "    return m"
   ]
  },
  {
   "cell_type": "markdown",
   "metadata": {},
   "source": [
    "Une fois ce modèle obtenu, on peut le résoudre:"
   ]
  },
  {
   "cell_type": "code",
   "execution_count": 3,
   "metadata": {},
   "outputs": [],
   "source": [
    "def solve(tiles, n, p): # affiche un pavage optimal d'une grille nxp avec des tuiles de tiles\n",
    "    m = pl(tiles, n, p)\n",
    "    sol = np.zeros((n, p))\n",
    "    ntile = 0\n",
    "    status = m.optimize(max_seconds=60)\n",
    "    if status == OptimizationStatus.OPTIMAL:\n",
    "        for v in m.vars:\n",
    "           if abs(v.x) > 1e-6: \n",
    "              t, i, j = map(int, v.name.split(\",\")) # tuile correspondante à la variable v\n",
    "              ntile += 1\n",
    "              for k, l in np.argwhere(tiles[t]):\n",
    "                  sol[i + k, j + l] = ntile\n",
    "        print(\"Solution optimale avec\", ntile, \"tuiles\")\n",
    "        print((sol == 0).sum(), \"cases ne sont pas couvertes\")\n",
    "    plt.imshow(sol, cmap = \"gist_ncar\")"
   ]
  },
  {
   "cell_type": "markdown",
   "metadata": {},
   "source": [
    "Essayons:"
   ]
  },
  {
   "cell_type": "code",
   "execution_count": 4,
   "metadata": {},
   "outputs": [
    {
     "name": "stdout",
     "output_type": "stream",
     "text": [
      "Solution optimale avec 8 tuiles\n",
      "1 cases ne sont pas couvertes\n"
     ]
    },
    {
     "data": {
      "image/png": "[encoded data removed]",
      "text/plain": [
       "<Figure size 720x288 with 1 Axes>"
      ]
     },
     "metadata": {
      "needs_background": "light"
     },
     "output_type": "display_data"
    }
   ],
   "source": [
    "L = np.full((2, 2), True)\n",
    "L[1, 1] = False # L[i, j] vaut True si (i, j) est occupé par la tuile, False sinon\n",
    "Ls = [L, L[::-1, :], L[:, ::-1], L[::-1, ::-1]] # les 4 rotations possibles de L\n",
    "solve(Ls, 5, 5)"
   ]
  },
  {
   "cell_type": "markdown",
   "metadata": {},
   "source": [
    "On retrouve bien l'exemple initial!\n",
    "\n",
    "Essayons avec d'autres tuiles, par exemple avec des carrés 2x2:"
   ]
  },
  {
   "cell_type": "code",
   "execution_count": 5,
   "metadata": {},
   "outputs": [
    {
     "name": "stdout",
     "output_type": "stream",
     "text": [
      "Solution optimale avec 4 tuiles\n",
      "9 cases ne sont pas couvertes\n"
     ]
    },
    {
     "data": {
      "image/png": "[encoded data removed]",
      "text/plain": [
       "<Figure size 720x288 with 1 Axes>"
      ]
     },
     "metadata": {
      "needs_background": "light"
     },
     "output_type": "display_data"
    }
   ],
   "source": [
    "C = np.full((2, 2), True)\n",
    "solve([C], 5, 5)"
   ]
  },
  {
   "cell_type": "markdown",
   "metadata": {},
   "source": [
    "Avec des bâtons 4x1: "
   ]
  },
  {
   "cell_type": "code",
   "execution_count": 7,
   "metadata": {},
   "outputs": [
    {
     "name": "stdout",
     "output_type": "stream",
     "text": [
      "Solution optimale avec 6 tuiles\n",
      "1 cases ne sont pas couvertes\n"
     ]
    },
    {
     "data": {
      "image/png": "[encoded data removed]",
      "text/plain": [
       "<Figure size 720x288 with 1 Axes>"
      ]
     },
     "metadata": {
      "needs_background": "light"
     },
     "output_type": "display_data"
    }
   ],
   "source": [
    "I = np.full((4, 1), True)\n",
    "Is = [I, I.T] \n",
    "solve(Is, 5, 5)"
   ]
  },
  {
   "cell_type": "markdown",
   "metadata": {},
   "source": [
    "Avec un peu n'importe quoi:"
   ]
  },
  {
   "cell_type": "code",
   "execution_count": 8,
   "metadata": {
    "scrolled": true
   },
   "outputs": [
    {
     "name": "stdout",
     "output_type": "stream",
     "text": [
      "Solution optimale avec 40 tuiles\n",
      "6 cases ne sont pas couvertes\n"
     ]
    },
    {
     "data": {
      "image/png": "[encoded data removed]",
      "text/plain": [
       "<Figure size 720x288 with 1 Axes>"
      ]
     },
     "metadata": {
      "needs_background": "light"
     },
     "output_type": "display_data"
    }
   ],
   "source": [
    "solve([C, I, L], 9, 17)"
   ]
  },
  {
   "cell_type": "markdown",
   "metadata": {},
   "source": [
    "# Exercices"
   ]
  },
  {
   "cell_type": "markdown",
   "metadata": {},
   "source": [
    "## Cas 2xn\n",
    "Dans une grille 2xn, combien peut-on placer de L au maximum? <br>\n",
    "Quelques exemples:"
   ]
  },
  {
   "cell_type": "code",
   "execution_count": 9,
   "metadata": {
    "scrolled": true
   },
   "outputs": [
    {
     "name": "stdout",
     "output_type": "stream",
     "text": [
      "Solution optimale avec 6 tuiles\n",
      "2 cases ne sont pas couvertes\n"
     ]
    },
    {
     "data": {
      "image/png": "[encoded data removed]",
      "text/plain": [
       "<Figure size 720x288 with 1 Axes>"
      ]
     },
     "metadata": {
      "needs_background": "light"
     },
     "output_type": "display_data"
    }
   ],
   "source": [
    "solve(Ls, 2, 10)"
   ]
  },
  {
   "cell_type": "code",
   "execution_count": 10,
   "metadata": {
    "scrolled": true
   },
   "outputs": [
    {
     "name": "stdout",
     "output_type": "stream",
     "text": [
      "Solution optimale avec 7 tuiles\n",
      "1 cases ne sont pas couvertes\n"
     ]
    },
    {
     "data": {
      "image/png": "[encoded data removed]",
      "text/plain": [
       "<Figure size 720x288 with 1 Axes>"
      ]
     },
     "metadata": {
      "needs_background": "light"
     },
     "output_type": "display_data"
    }
   ],
   "source": [
    "solve(Ls, 2, 11)"
   ]
  },
  {
   "cell_type": "code",
   "execution_count": 11,
   "metadata": {},
   "outputs": [
    {
     "name": "stdout",
     "output_type": "stream",
     "text": [
      "Solution optimale avec 8 tuiles\n",
      "0 cases ne sont pas couvertes\n"
     ]
    },
    {
     "data": {
      "image/png": "[encoded data removed]",
      "text/plain": [
       "<Figure size 720x288 with 1 Axes>"
      ]
     },
     "metadata": {
      "needs_background": "light"
     },
     "output_type": "display_data"
    }
   ],
   "source": [
    "solve(Ls, 2, 12)"
   ]
  },
  {
   "cell_type": "code",
   "execution_count": 12,
   "metadata": {
    "scrolled": true
   },
   "outputs": [
    {
     "name": "stdout",
     "output_type": "stream",
     "text": [
      "Solution optimale avec 8 tuiles\n",
      "2 cases ne sont pas couvertes\n"
     ]
    },
    {
     "data": {
      "image/png": "[encoded data removed]",
      "text/plain": [
       "<Figure size 720x288 with 1 Axes>"
      ]
     },
     "metadata": {
      "needs_background": "light"
     },
     "output_type": "display_data"
    }
   ],
   "source": [
    "solve(Ls, 2, 13)"
   ]
  },
  {
   "cell_type": "markdown",
   "metadata": {},
   "source": [
    "## Cas nxn\n",
    "Dans une grille nxn avec n une puissance de 2, combien peut-on placer de L au maximum? <br>\n",
    "Donner un algorithme diviser pour régner pour y parvenir."
   ]
  },
  {
   "cell_type": "code",
   "execution_count": 13,
   "metadata": {
    "scrolled": true
   },
   "outputs": [
    {
     "name": "stdout",
     "output_type": "stream",
     "text": [
      "Solution optimale avec 85 tuiles\n",
      "1 cases ne sont pas couvertes\n"
     ]
    },
    {
     "data": {
      "image/png": "[encoded data removed]",
      "text/plain": [
       "<Figure size 720x288 with 1 Axes>"
      ]
     },
     "metadata": {
      "needs_background": "light"
     },
     "output_type": "display_data"
    }
   ],
   "source": [
    "solve(Ls, 16, 16)"
   ]
  },
  {
   "cell_type": "markdown",
   "metadata": {},
   "source": [
    "## Argument de coloriage\n",
    "\n",
    "À l'aide d'un argument de coloriage, montrer qu'il est impossible de recouvrir complètement une grille 10x10 avec des I."
   ]
  },
  {
   "cell_type": "code",
   "execution_count": 14,
   "metadata": {
    "scrolled": true
   },
   "outputs": [
    {
     "name": "stdout",
     "output_type": "stream",
     "text": [
      "Solution optimale avec 24 tuiles\n",
      "4 cases ne sont pas couvertes\n"
     ]
    },
    {
     "data": {
      "image/png": "[encoded data removed]",
      "text/plain": [
       "<Figure size 720x288 with 1 Axes>"
      ]
     },
     "metadata": {
      "needs_background": "light"
     },
     "output_type": "display_data"
    }
   ],
   "source": [
    "solve(Is, 10, 10)"
   ]
  },
  {
   "cell_type": "markdown",
   "metadata": {},
   "source": [
    "# Dual (TODO)\n",
    "\n",
    "Interpréter le dual du PLNE ci-dessus. A-t-on dualité forte?\n"
   ]
  }
 ],
 "metadata": {
  "kernelspec": {
   "display_name": "Python 3",
   "language": "python",
   "name": "python3"
  },
  "language_info": {
   "codemirror_mode": {
    "name": "ipython",
    "version": 3
   },
   "file_extension": ".py",
   "mimetype": "text/x-python",
   "name": "python",
   "nbconvert_exporter": "python",
   "pygments_lexer": "ipython3",
   "version": "3.8.2"
  }
 },
 "nbformat": 4,
 "nbformat_minor": 4
}
